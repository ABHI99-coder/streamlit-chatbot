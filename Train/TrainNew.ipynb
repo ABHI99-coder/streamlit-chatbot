{
 "cells": [
  {
   "cell_type": "code",
   "execution_count": 21,
   "id": "eab97aa4-87f5-493d-86ba-be9031087f35",
   "metadata": {},
   "outputs": [],
   "source": [
    "import os\n",
    "import google.generativeai as genai\n",
    "import chromadb\n",
    "import fitz\n",
    "from dotenv import load_dotenv\n",
    "import requests\n",
    "import unicodedata\n",
    "import pdfplumber\n",
    "import pandas as pd\n",
    "import re"
   ]
  },
  {
   "cell_type": "code",
   "execution_count": 3,
   "id": "eb5f46b1-ed66-43cf-9e3a-b482fae490e0",
   "metadata": {},
   "outputs": [],
   "source": [
    "load_dotenv(\"../.env\")\n",
    "GOOGLE_API_KEY = os.getenv(\"API_Key\")"
   ]
  },
  {
   "cell_type": "code",
   "execution_count": 5,
   "id": "e7e13a5c-03c5-4688-9e08-9bbe6a23e35a",
   "metadata": {},
   "outputs": [],
   "source": [
    "def check_api_key():\n",
    "    try:\n",
    "        API_URL = \"https://generativelanguage.googleapis.com/v1/models/gemini-1.5-pro:generateContent\"\n",
    "        headers = {\"Content-Type\": \"application/json\"}\n",
    "        payload = {\"contents\": [{\"parts\": [{\"text\": \"Hello\"}]}]}\n",
    "\n",
    "        response = requests.post(f\"{API_URL}?key={GOOGLE_API_KEY}\", json=payload, headers=headers)\n",
    "        response.raise_for_status()  \n",
    "\n",
    "        print(\"API Key is valid!\")\n",
    "\n",
    "    except requests.exceptions.HTTPError as e:\n",
    "        print(f\"HTTP Error: {response.status_code} - {response.text}\")\n",
    "    except requests.exceptions.RequestException as e:\n",
    "        print(f\"Network error: {e}\")"
   ]
  },
  {
   "cell_type": "code",
   "execution_count": 7,
   "id": "6a4cc787-4d55-4404-8371-d883406b3892",
   "metadata": {},
   "outputs": [
    {
     "name": "stdout",
     "output_type": "stream",
     "text": [
      "API Key is valid!\n"
     ]
    }
   ],
   "source": [
    "check_api_key()"
   ]
  },
  {
   "cell_type": "code",
   "execution_count": 9,
   "id": "2c2d4275-6018-4dc2-93c4-07e440683814",
   "metadata": {},
   "outputs": [],
   "source": [
    "genai.configure(api_key=GOOGLE_API_KEY)"
   ]
  },
  {
   "cell_type": "code",
   "execution_count": 11,
   "id": "8542f15b-b7f1-4508-b516-a337f07a87a2",
   "metadata": {},
   "outputs": [],
   "source": [
    "chroma_client = chromadb.PersistentClient(path=\"../ChromaStorage/BoardGames\")\n",
    "collection = chroma_client.get_or_create_collection(name=\"BoardGames\")"
   ]
  },
  {
   "cell_type": "code",
   "execution_count": 53,
   "id": "efb1540b-395f-4d0a-ba91-67c719cb6170",
   "metadata": {},
   "outputs": [
    {
     "name": "stdin",
     "output_type": "stream",
     "text": [
      "Enter the file path:  ../Files/Board_games.pdf\n"
     ]
    }
   ],
   "source": [
    "pdf_path = input(\"Enter the file path: \")"
   ]
  },
  {
   "cell_type": "code",
   "execution_count": 83,
   "id": "b68d2906-d42e-46a5-a2c5-7ff2fe3832e6",
   "metadata": {},
   "outputs": [],
   "source": [
    "import pdfplumber\n",
    "\n",
    "def is_within_bbox(word_bbox, table_bbox):\n",
    "    x0, y0, x1, y1 = word_bbox\n",
    "    tx0, ty0, tx1, ty1 = table_bbox\n",
    "    return (x0 >= tx0 and x1 <= tx1 and y0 >= ty0 and y1 <= ty1)\n",
    "\n",
    "def extract_text_excluding_tables(pdf_path):\n",
    "    full_text = []\n",
    "    \n",
    "    with pdfplumber.open(pdf_path) as pdf:\n",
    "        for page in pdf.pages:\n",
    "            # Step 1: Get all table bounding boxes\n",
    "            table_bboxes = [table.bbox for table in page.find_tables()]\n",
    "\n",
    "            # Step 2: Get all words with positions\n",
    "            page_words = page.extract_words()\n",
    "            cleaned_words = []\n",
    "\n",
    "            for word in page_words:\n",
    "                word_bbox = (float(word['x0']), float(word['top']), float(word['x1']), float(word['bottom']))\n",
    "                \n",
    "                # Step 3: Only include words that are NOT inside any table bbox\n",
    "                if not any(is_within_bbox(word_bbox, bbox) for bbox in table_bboxes):\n",
    "                    cleaned_words.append(word['text'])\n",
    "\n",
    "            full_text.append(\" \".join(cleaned_words))  # Join words for each page\n",
    "\n",
    "    return \"\\n\\n\".join(full_text)"
   ]
  },
  {
   "cell_type": "code",
   "execution_count": 87,
   "id": "f067140f-2c1f-49ed-8229-e0a4ba818c62",
   "metadata": {},
   "outputs": [
    {
     "name": "stdout",
     "output_type": "stream",
     "text": [
      "Classic Board Games: A Comprehensive Guide Introduction Classic board games have stood the test of time, entertaining generations of players with their simple yet engaging gameplay. This guide explores five iconic board games that have become staples in households around the world. Ludo Origin: Ancient Indian game Pachisi First Commercial Version: 1896 Players: 2-4 Playing Time: 30-60 minutes Overview Ludo is a race game where players move their four tokens from start to finish according to dice rolls. The game's simplicity makes it accessible to players of all ages, while still providing exciting moments as players capture opponents' pieces and race to the center.\n",
      "\n",
      "Key Features ● Simple rules make it accessible to children as young as 4 ● Element of chance balanced with basic strategy ● Social game that brings families together ● Available in countless variations worldwide (Parcheesi, Sorry!, etc.) Game Mechanics ● Roll-and-move gameplay ● Player interaction through capturing pieces ● Safe zones to protect pieces ● Race to get all four pieces \"home\" Monopoly Designer: Charles Darrow (based on The Landlord's Game by Elizabeth Magie) First Published: 1935 Players: 2-8 Playing Time: 60-180 minutes Overview Monopoly is perhaps the world's most famous board game, focusing on buying, selling, and developing properties. Players roll dice to move around the board, purchasing unowned properties and charging rent to opponents who land on their spaces. The last player remaining after all others have gone bankrupt is the winner. Key Features ● Economic simulation with property management ● Negotiation and trading mechanics ● Iconic tokens, currency, and board design ● Over 1,000 different versions and themes Game Mechanics ● Property acquisition and development ● Rent collection based on property value and development ● Chance and Community Chest cards introducing random events ● Trading and negotiation between players Chess\n",
      "\n",
      "Origin: Evolved from 6th century Indian game chaturanga Modern Rules Standardized: 19th century Players: 2 Playing Time: 10-60+ minutes Overview Chess is one of the world's most respected strategy games, requiring foresight, planning, and tactical thinking. Players move their pieces according to specific movement rules, attempting to checkmate their opponent's king while protecting their own. Key Features ● Perfect information game with no element of chance ● Incredibly deep strategy with countless opening variations ● Internationally standardized rules ● Recognized sport with professional competitions worldwide Game Mechanics ● Different pieces with unique movement patterns ● Capturing opponent's pieces by moving to their square ● Check, checkmate, and stalemate conditions ● Special moves like castling, en passant, and pawn promotion Checkers (Draughts) Origin: Ancient game with origins around 3000 BCE Modern Form: 12th century Players: 2 Playing Time: 15-30 minutes Overview Checkers (known as Draughts in many countries) is a classic abstract strategy game played on an 8×8 board. Players move their pieces diagonally, attempting to capture the opponent's pieces by jumping over them. The game combines simplicity with tactical depth. Key Features ● Easy to learn but challenging to master ● Quick playtime makes it perfect for multiple rounds ● Minimal equipment needed (can be played with coins, bottle caps, etc.) ● Multiple regional variations with different rules\n",
      "\n",
      "Game Mechanics ● Diagonal movement of pieces ● Capturing by jumping over opponent's pieces ● Kings that can move backward ● Forced capture rules in many variations Clue (Cluedo) Designer: Anthony E. Pratt First Published: 1949 Players: 3-6 Playing Time: 45-60 minutes Overview Clue (known as Cluedo outside North America) is a murder mystery game where players attempt to determine who killed Mr. Boddy, with what weapon, and in which room. Players move through a mansion, making suggestions and eliminating possibilities through deduction. Key Features ● Deductive reasoning gameplay ● Character-based play with iconic suspects ● Combination of strategy and logical thinking ● Memorable setting and theme Game Mechanics ● Movement through the mansion rooms ● Making suggestions to eliminate possibilities ● Secret passages between corners ● Process of elimination using detective notes Comparison Table\n",
      "\n",
      "Skills Developed Historical Significance\n",
      "\n",
      "Ludo Ludo's origins trace back to the ancient Indian game Pachisi, played as early as the 6th century. The modern version was patented in England in 1896. The game's simple design has made it a staple in households worldwide, with countless variations including Parcheesi in the United States and Mensch ärgere Dich nicht in Germany. Monopoly Originally created as \"The Landlord's Game\" by Elizabeth Magie in 1903 to demonstrate the negative aspects of monopolies, the game was later modified and patented by Charles Darrow in 1935. Parker Brothers (now Hasbro) purchased the rights and turned it into the world's best-selling commercial board game. Over 275 million games have been sold worldwide. Chess Chess evolved from the Indian game chaturanga around the 6th century, spreading to Persia and then Europe. The modern rules were standardized in the 19th century. Chess is recognized as a sport by the International Olympic Committee and has been the subject of significant computer science research, culminating in computers like Deep Blue defeating world champions. Checkers One of the oldest known board games, archaeological evidence suggests similar games were played as far back as 3000 BCE in ancient Mesopotamia. The modern version emerged in France around the 12th century. In 2007, checkers was \"solved\" by computer scientists, proving that perfect play by both sides leads to a draw. Clue Created by Anthony E. Pratt in Birmingham, England during World War II and patented in 1947, Clue was inspired by murder mystery dinner parties. The game was first manufactured by Waddingtons in the UK and Parker Brothers in the US. It has inspired numerous spin-offs, including a 1985 film, a musical, and multiple themed editions. Conclusion\n",
      "\n",
      "These five classic board games have remained popular for decades (or even centuries) because they each offer engaging gameplay that appeals to different preferences and skill levels. From the pure strategy of Chess to the family-friendly competition of Ludo, these games have earned their place as timeless classics in the world of tabletop gaming. While modern board games continue to innovate with new mechanics and themes, these classics provide a foundation that continues to influence game design today. Whether you're introducing young players to their first board game or enjoying a strategic challenge with experienced players, these five games offer something for everyone.\n"
     ]
    }
   ],
   "source": [
    "pdf_path = \"../Files/Board_games.pdf\"\n",
    "clean_text = extract_text_excluding_tables(pdf_path)\n",
    "print(clean_text)"
   ]
  },
  {
   "cell_type": "code",
   "execution_count": 89,
   "id": "baabd021-e21b-4825-99ee-769b477c9409",
   "metadata": {},
   "outputs": [],
   "source": [
    "def extract_tables_and_send_to_gemini(pdf_path):\n",
    "    all_table_texts = []  # \n",
    "\n",
    "    model = genai.GenerativeModel(\"gemini-2.0-flash\")\n",
    "\n",
    "    with pdfplumber.open(pdf_path) as pdf:\n",
    "        for page in pdf.pages:\n",
    "            tables = page.extract_tables()\n",
    "            for table in tables:\n",
    "                if table:\n",
    "                  \n",
    "                    df = pd.DataFrame(table[1:], columns=table[0])\n",
    "\n",
    "                    \n",
    "                    table_text = df.to_string(index=False)\n",
    "\n",
    "                    \n",
    "                    prompt = f\"\"\"\n",
    "                    You are an expert in extracting meaningful, clean text from a table.\n",
    "\n",
    "                    Below is the table data:\n",
    "\n",
    "                    {table_text}\n",
    "\n",
    "                    Convert the table into a clean, human-readable text summary. \n",
    "                    Preserve important relationships from the table but present it as plain text.\n",
    "                    Be concise and clear. Don't use special signs and symbols.\n",
    "                    \"\"\"\n",
    "\n",
    "                   \n",
    "                    gemini_response = model.generate_content(prompt).parts[0].text\n",
    "\n",
    "                    \n",
    "                    all_table_texts.append(gemini_response)\n",
    "\n",
    "    # After all tables processed, join them together\n",
    "    concatenated_text = \"\\n\\n\".join(all_table_texts)\n",
    "\n",
    "    return concatenated_text"
   ]
  },
  {
   "cell_type": "code",
   "execution_count": 93,
   "id": "79c08f12-cee9-46ec-9be1-0bc672db2981",
   "metadata": {},
   "outputs": [],
   "source": [
    "table_text = extract_tables_and_send_to_gemini(pdf_path)"
   ]
  },
  {
   "cell_type": "code",
   "execution_count": 95,
   "id": "0ab0c505-7825-41ac-8608-b8d30ff81763",
   "metadata": {},
   "outputs": [
    {
     "name": "stdout",
     "output_type": "stream",
     "text": [
      "Here is a summary of the game characteristics:\n",
      "\n",
      "Ludo is a game for ages 4 and up, with low complexity, high luck factor, and low strategy, with an average playing time of 30-60 minutes.\n",
      "\n",
      "Monopoly is for ages 8 and up, with medium complexity, medium luck factor, and medium strategy, and an average playing time of 60-180 minutes.\n",
      "\n",
      "Chess is for ages 6 and up, with high complexity, no luck factor, and very high strategy, and an average playing time of 10-60+ minutes.\n",
      "\n",
      "Checkers is for ages 6 and up, with low complexity, no luck factor, and medium strategy, and an average playing time of 15-30 minutes.\n",
      "\n",
      "Clue is for ages 8 and up, with medium complexity, medium luck factor, and medium strategy, and an average playing time of 45-60 minutes.\n",
      "\n",
      "\n",
      "Here's a summary of the game skills based on the table:\n",
      "\n",
      "Ludo: Low in logical thinking and math skills, high in social skills, low in planning, and moderate in patience.\n",
      "\n",
      "Monopoly: Moderate in logical thinking, high in math and social skills, moderate in planning, and high in patience.\n",
      "\n",
      "Chess: High in logical thinking, low in math and social skills, and high in planning and patience.\n",
      "\n",
      "Checkers: Moderate in logical thinking, low in math and social skills, moderate in planning and patience.\n",
      "\n",
      "Clue: High in logical thinking, low in math skills, moderate in social skills, planning, and patience.\n",
      "\n"
     ]
    }
   ],
   "source": [
    "print(table_text)"
   ]
  },
  {
   "cell_type": "code",
   "execution_count": 106,
   "id": "3808edef-08c5-498b-8d80-a1ae68892951",
   "metadata": {},
   "outputs": [],
   "source": [
    "def append_table_summaries(clean_text, table_summaries):\n",
    "    final_text = f\"{clean_text.strip()}\\n\\n\\n\\nTable Summaries:\\n\\n{table_summaries}\"\n",
    "    return final_text"
   ]
  },
  {
   "cell_type": "raw",
   "id": "4bbe1650-7994-4727-9790-bfa0f887fb10",
   "metadata": {},
   "source": []
  },
  {
   "cell_type": "code",
   "execution_count": null,
   "id": "b3fc6707-f8e9-4047-b8fa-edf6c1f35a63",
   "metadata": {},
   "outputs": [],
   "source": []
  },
  {
   "cell_type": "code",
   "execution_count": 108,
   "id": "42e73bd3-4562-47a3-b6e5-9e29802ce43e",
   "metadata": {},
   "outputs": [
    {
     "name": "stdout",
     "output_type": "stream",
     "text": [
      "Classic Board Games: A Comprehensive Guide Introduction Classic board games have stood the test of time, entertaining generations of players with their simple yet engaging gameplay. This guide explores five iconic board games that have become staples in households around the world. Ludo Origin: Ancient Indian game Pachisi First Commercial Version: 1896 Players: 2-4 Playing Time: 30-60 minutes Overview Ludo is a race game where players move their four tokens from start to finish according to dice rolls. The game's simplicity makes it accessible to players of all ages, while still providing exciting moments as players capture opponents' pieces and race to the center.\n",
      "\n",
      "Key Features ● Simple rules make it accessible to children as young as 4 ● Element of chance balanced with basic strategy ● Social game that brings families together ● Available in countless variations worldwide (Parcheesi, Sorry!, etc.) Game Mechanics ● Roll-and-move gameplay ● Player interaction through capturing pieces ● Safe zones to protect pieces ● Race to get all four pieces \"home\" Monopoly Designer: Charles Darrow (based on The Landlord's Game by Elizabeth Magie) First Published: 1935 Players: 2-8 Playing Time: 60-180 minutes Overview Monopoly is perhaps the world's most famous board game, focusing on buying, selling, and developing properties. Players roll dice to move around the board, purchasing unowned properties and charging rent to opponents who land on their spaces. The last player remaining after all others have gone bankrupt is the winner. Key Features ● Economic simulation with property management ● Negotiation and trading mechanics ● Iconic tokens, currency, and board design ● Over 1,000 different versions and themes Game Mechanics ● Property acquisition and development ● Rent collection based on property value and development ● Chance and Community Chest cards introducing random events ● Trading and negotiation between players Chess\n",
      "\n",
      "Origin: Evolved from 6th century Indian game chaturanga Modern Rules Standardized: 19th century Players: 2 Playing Time: 10-60+ minutes Overview Chess is one of the world's most respected strategy games, requiring foresight, planning, and tactical thinking. Players move their pieces according to specific movement rules, attempting to checkmate their opponent's king while protecting their own. Key Features ● Perfect information game with no element of chance ● Incredibly deep strategy with countless opening variations ● Internationally standardized rules ● Recognized sport with professional competitions worldwide Game Mechanics ● Different pieces with unique movement patterns ● Capturing opponent's pieces by moving to their square ● Check, checkmate, and stalemate conditions ● Special moves like castling, en passant, and pawn promotion Checkers (Draughts) Origin: Ancient game with origins around 3000 BCE Modern Form: 12th century Players: 2 Playing Time: 15-30 minutes Overview Checkers (known as Draughts in many countries) is a classic abstract strategy game played on an 8×8 board. Players move their pieces diagonally, attempting to capture the opponent's pieces by jumping over them. The game combines simplicity with tactical depth. Key Features ● Easy to learn but challenging to master ● Quick playtime makes it perfect for multiple rounds ● Minimal equipment needed (can be played with coins, bottle caps, etc.) ● Multiple regional variations with different rules\n",
      "\n",
      "Game Mechanics ● Diagonal movement of pieces ● Capturing by jumping over opponent's pieces ● Kings that can move backward ● Forced capture rules in many variations Clue (Cluedo) Designer: Anthony E. Pratt First Published: 1949 Players: 3-6 Playing Time: 45-60 minutes Overview Clue (known as Cluedo outside North America) is a murder mystery game where players attempt to determine who killed Mr. Boddy, with what weapon, and in which room. Players move through a mansion, making suggestions and eliminating possibilities through deduction. Key Features ● Deductive reasoning gameplay ● Character-based play with iconic suspects ● Combination of strategy and logical thinking ● Memorable setting and theme Game Mechanics ● Movement through the mansion rooms ● Making suggestions to eliminate possibilities ● Secret passages between corners ● Process of elimination using detective notes Comparison Table\n",
      "\n",
      "Skills Developed Historical Significance\n",
      "\n",
      "Ludo Ludo's origins trace back to the ancient Indian game Pachisi, played as early as the 6th century. The modern version was patented in England in 1896. The game's simple design has made it a staple in households worldwide, with countless variations including Parcheesi in the United States and Mensch ärgere Dich nicht in Germany. Monopoly Originally created as \"The Landlord's Game\" by Elizabeth Magie in 1903 to demonstrate the negative aspects of monopolies, the game was later modified and patented by Charles Darrow in 1935. Parker Brothers (now Hasbro) purchased the rights and turned it into the world's best-selling commercial board game. Over 275 million games have been sold worldwide. Chess Chess evolved from the Indian game chaturanga around the 6th century, spreading to Persia and then Europe. The modern rules were standardized in the 19th century. Chess is recognized as a sport by the International Olympic Committee and has been the subject of significant computer science research, culminating in computers like Deep Blue defeating world champions. Checkers One of the oldest known board games, archaeological evidence suggests similar games were played as far back as 3000 BCE in ancient Mesopotamia. The modern version emerged in France around the 12th century. In 2007, checkers was \"solved\" by computer scientists, proving that perfect play by both sides leads to a draw. Clue Created by Anthony E. Pratt in Birmingham, England during World War II and patented in 1947, Clue was inspired by murder mystery dinner parties. The game was first manufactured by Waddingtons in the UK and Parker Brothers in the US. It has inspired numerous spin-offs, including a 1985 film, a musical, and multiple themed editions. Conclusion\n",
      "\n",
      "These five classic board games have remained popular for decades (or even centuries) because they each offer engaging gameplay that appeals to different preferences and skill levels. From the pure strategy of Chess to the family-friendly competition of Ludo, these games have earned their place as timeless classics in the world of tabletop gaming. While modern board games continue to innovate with new mechanics and themes, these classics provide a foundation that continues to influence game design today. Whether you're introducing young players to their first board game or enjoying a strategic challenge with experienced players, these five games offer something for everyone.\n",
      "\n",
      "\n",
      "\n",
      "Table Summaries:\n",
      "\n",
      "Here is a summary of the game characteristics:\n",
      "\n",
      "Ludo is a game for ages 4 and up, with low complexity, high luck factor, and low strategy, with an average playing time of 30-60 minutes.\n",
      "\n",
      "Monopoly is for ages 8 and up, with medium complexity, medium luck factor, and medium strategy, and an average playing time of 60-180 minutes.\n",
      "\n",
      "Chess is for ages 6 and up, with high complexity, no luck factor, and very high strategy, and an average playing time of 10-60+ minutes.\n",
      "\n",
      "Checkers is for ages 6 and up, with low complexity, no luck factor, and medium strategy, and an average playing time of 15-30 minutes.\n",
      "\n",
      "Clue is for ages 8 and up, with medium complexity, medium luck factor, and medium strategy, and an average playing time of 45-60 minutes.\n",
      "\n",
      "\n",
      "Here's a summary of the game skills based on the table:\n",
      "\n",
      "Ludo: Low in logical thinking and math skills, high in social skills, low in planning, and moderate in patience.\n",
      "\n",
      "Monopoly: Moderate in logical thinking, high in math and social skills, moderate in planning, and high in patience.\n",
      "\n",
      "Chess: High in logical thinking, low in math and social skills, and high in planning and patience.\n",
      "\n",
      "Checkers: Moderate in logical thinking, low in math and social skills, moderate in planning and patience.\n",
      "\n",
      "Clue: High in logical thinking, low in math skills, moderate in social skills, planning, and patience.\n",
      "\n"
     ]
    }
   ],
   "source": [
    "final_doc_text = append_table_summaries(clean_text, table_text)\n",
    "print(final_doc_text)"
   ]
  },
  {
   "cell_type": "code",
   "execution_count": 110,
   "id": "1eb3ac08-4574-4aa2-8cc2-0e8115650252",
   "metadata": {},
   "outputs": [],
   "source": [
    "def clean_text(text):\n",
    "    return unicodedata.normalize(\"NFKC\", text)"
   ]
  },
  {
   "cell_type": "code",
   "execution_count": 112,
   "id": "c1aff64b-a209-4a2e-9cc0-e27faf0a92ad",
   "metadata": {},
   "outputs": [
    {
     "name": "stdout",
     "output_type": "stream",
     "text": [
      "Classic Board Games: A Comprehensive Guide Introduction Classic board games have stood the test of time, entertaining generations of players with their simple yet engaging gameplay. This guide explores five iconic board games that have become staples in households around the world. Ludo Origin: Ancient Indian game Pachisi First Commercial Version: 1896 Players: 2-4 Playing Time: 30-60 minutes Overview Ludo is a race game where players move their four tokens from start to finish according to dice rolls. The game's simplicity makes it accessible to players of all ages, while still providing exciting moments as players capture opponents' pieces and race to the center.\n",
      "\n",
      "Key Features ● Simple rules make it accessible to children as young as 4 ● Element of chance balanced with basic strategy ● Social game that brings families together ● Available in countless variations worldwide (Parcheesi, Sorry!, etc.) Game Mechanics ● Roll-and-move gameplay ● Player interaction through capturing pieces ● Safe zones to protect pieces ● Race to get all four pieces \"home\" Monopoly Designer: Charles Darrow (based on The Landlord's Game by Elizabeth Magie) First Published: 1935 Players: 2-8 Playing Time: 60-180 minutes Overview Monopoly is perhaps the world's most famous board game, focusing on buying, selling, and developing properties. Players roll dice to move around the board, purchasing unowned properties and charging rent to opponents who land on their spaces. The last player remaining after all others have gone bankrupt is the winner. Key Features ● Economic simulation with property management ● Negotiation and trading mechanics ● Iconic tokens, currency, and board design ● Over 1,000 different versions and themes Game Mechanics ● Property acquisition and development ● Rent collection based on property value and development ● Chance and Community Chest cards introducing random events ● Trading and negotiation between players Chess\n",
      "\n",
      "Origin: Evolved from 6th century Indian game chaturanga Modern Rules Standardized: 19th century Players: 2 Playing Time: 10-60+ minutes Overview Chess is one of the world's most respected strategy games, requiring foresight, planning, and tactical thinking. Players move their pieces according to specific movement rules, attempting to checkmate their opponent's king while protecting their own. Key Features ● Perfect information game with no element of chance ● Incredibly deep strategy with countless opening variations ● Internationally standardized rules ● Recognized sport with professional competitions worldwide Game Mechanics ● Different pieces with unique movement patterns ● Capturing opponent's pieces by moving to their square ● Check, checkmate, and stalemate conditions ● Special moves like castling, en passant, and pawn promotion Checkers (Draughts) Origin: Ancient game with origins around 3000 BCE Modern Form: 12th century Players: 2 Playing Time: 15-30 minutes Overview Checkers (known as Draughts in many countries) is a classic abstract strategy game played on an 8×8 board. Players move their pieces diagonally, attempting to capture the opponent's pieces by jumping over them. The game combines simplicity with tactical depth. Key Features ● Easy to learn but challenging to master ● Quick playtime makes it perfect for multiple rounds ● Minimal equipment needed (can be played with coins, bottle caps, etc.) ● Multiple regional variations with different rules\n",
      "\n",
      "Game Mechanics ● Diagonal movement of pieces ● Capturing by jumping over opponent's pieces ● Kings that can move backward ● Forced capture rules in many variations Clue (Cluedo) Designer: Anthony E. Pratt First Published: 1949 Players: 3-6 Playing Time: 45-60 minutes Overview Clue (known as Cluedo outside North America) is a murder mystery game where players attempt to determine who killed Mr. Boddy, with what weapon, and in which room. Players move through a mansion, making suggestions and eliminating possibilities through deduction. Key Features ● Deductive reasoning gameplay ● Character-based play with iconic suspects ● Combination of strategy and logical thinking ● Memorable setting and theme Game Mechanics ● Movement through the mansion rooms ● Making suggestions to eliminate possibilities ● Secret passages between corners ● Process of elimination using detective notes Comparison Table\n",
      "\n",
      "Skills Developed Historical Significance\n",
      "\n",
      "Ludo Ludo's origins trace back to the ancient Indian game Pachisi, played as early as the 6th century. The modern version was patented in England in 1896. The game's simple design has made it a staple in households worldwide, with countless variations including Parcheesi in the United States and Mensch ärgere Dich nicht in Germany. Monopoly Originally created as \"The Landlord's Game\" by Elizabeth Magie in 1903 to demonstrate the negative aspects of monopolies, the game was later modified and patented by Charles Darrow in 1935. Parker Brothers (now Hasbro) purchased the rights and turned it into the world's best-selling commercial board game. Over 275 million games have been sold worldwide. Chess Chess evolved from the Indian game chaturanga around the 6th century, spreading to Persia and then Europe. The modern rules were standardized in the 19th century. Chess is recognized as a sport by the International Olympic Committee and has been the subject of significant computer science research, culminating in computers like Deep Blue defeating world champions. Checkers One of the oldest known board games, archaeological evidence suggests similar games were played as far back as 3000 BCE in ancient Mesopotamia. The modern version emerged in France around the 12th century. In 2007, checkers was \"solved\" by computer scientists, proving that perfect play by both sides leads to a draw. Clue Created by Anthony E. Pratt in Birmingham, England during World War II and patented in 1947, Clue was inspired by murder mystery dinner parties. The game was first manufactured by Waddingtons in the UK and Parker Brothers in the US. It has inspired numerous spin-offs, including a 1985 film, a musical, and multiple themed editions. Conclusion\n",
      "\n",
      "These five classic board games have remained popular for decades (or even centuries) because they each offer engaging gameplay that appeals to different preferences and skill levels. From the pure strategy of Chess to the family-friendly competition of Ludo, these games have earned their place as timeless classics in the world of tabletop gaming. While modern board games continue to innovate with new mechanics and themes, these classics provide a foundation that continues to influence game design today. Whether you're introducing young players to their first board game or enjoying a strategic challenge with experienced players, these five games offer something for everyone.\n",
      "\n",
      "\n",
      "\n",
      "Table Summaries:\n",
      "\n",
      "Here is a summary of the game characteristics:\n",
      "\n",
      "Ludo is a game for ages 4 and up, with low complexity, high luck factor, and low strategy, with an average playing time of 30-60 minutes.\n",
      "\n",
      "Monopoly is for ages 8 and up, with medium complexity, medium luck factor, and medium strategy, and an average playing time of 60-180 minutes.\n",
      "\n",
      "Chess is for ages 6 and up, with high complexity, no luck factor, and very high strategy, and an average playing time of 10-60+ minutes.\n",
      "\n",
      "Checkers is for ages 6 and up, with low complexity, no luck factor, and medium strategy, and an average playing time of 15-30 minutes.\n",
      "\n",
      "Clue is for ages 8 and up, with medium complexity, medium luck factor, and medium strategy, and an average playing time of 45-60 minutes.\n",
      "\n",
      "\n",
      "Here's a summary of the game skills based on the table:\n",
      "\n",
      "Ludo: Low in logical thinking and math skills, high in social skills, low in planning, and moderate in patience.\n",
      "\n",
      "Monopoly: Moderate in logical thinking, high in math and social skills, moderate in planning, and high in patience.\n",
      "\n",
      "Chess: High in logical thinking, low in math and social skills, and high in planning and patience.\n",
      "\n",
      "Checkers: Moderate in logical thinking, low in math and social skills, moderate in planning and patience.\n",
      "\n",
      "Clue: High in logical thinking, low in math skills, moderate in social skills, planning, and patience.\n",
      "\n"
     ]
    }
   ],
   "source": [
    "try:\n",
    "    text = clean_text(final_doc_text)\n",
    "    print(text)\n",
    "except Exception as e:\n",
    "    print(f\"An error occurred: {e}\")"
   ]
  },
  {
   "cell_type": "code",
   "execution_count": 114,
   "id": "a9a55113-9ff8-4b4a-861d-e646ce854dc2",
   "metadata": {},
   "outputs": [],
   "source": [
    "def chunk_text(text, chunk_size=100, overlap=50):\n",
    "    words = text.split()\n",
    "    chunks = []\n",
    "    start = 0\n",
    "    while start < len(words):\n",
    "        end = min(start + chunk_size, len(words))\n",
    "        chunk = ' '.join(words[start:end])\n",
    "        chunks.append(chunk)\n",
    "        start += chunk_size - overlap\n",
    "    return chunks"
   ]
  },
  {
   "cell_type": "code",
   "execution_count": 128,
   "id": "4b057078-2d4a-42fe-8c50-8657fe4787ce",
   "metadata": {},
   "outputs": [
    {
     "name": "stdout",
     "output_type": "stream",
     "text": [
      "[\"Classic Board Games: A Comprehensive Guide Introduction Classic board games have stood the test of time, entertaining generations of players with their simple yet engaging gameplay. This guide explores five iconic board games that have become staples in households around the world. Ludo Origin: Ancient Indian game Pachisi First Commercial Version: 1896 Players: 2-4 Playing Time: 30-60 minutes Overview Ludo is a race game where players move their four tokens from start to finish according to dice rolls. The game's simplicity makes it accessible to players of all ages, while still providing exciting moments as players capture opponents' pieces and\", \"Version: 1896 Players: 2-4 Playing Time: 30-60 minutes Overview Ludo is a race game where players move their four tokens from start to finish according to dice rolls. The game's simplicity makes it accessible to players of all ages, while still providing exciting moments as players capture opponents' pieces and race to the center. Key Features ● Simple rules make it accessible to children as young as 4 ● Element of chance balanced with basic strategy ● Social game that brings families together ● Available in countless variations worldwide (Parcheesi, Sorry!, etc.) Game Mechanics ● Roll-and-move gameplay ● Player interaction\", 'race to the center. Key Features ● Simple rules make it accessible to children as young as 4 ● Element of chance balanced with basic strategy ● Social game that brings families together ● Available in countless variations worldwide (Parcheesi, Sorry!, etc.) Game Mechanics ● Roll-and-move gameplay ● Player interaction through capturing pieces ● Safe zones to protect pieces ● Race to get all four pieces \"home\" Monopoly Designer: Charles Darrow (based on The Landlord\\'s Game by Elizabeth Magie) First Published: 1935 Players: 2-8 Playing Time: 60-180 minutes Overview Monopoly is perhaps the world\\'s most famous board game, focusing on', 'through capturing pieces ● Safe zones to protect pieces ● Race to get all four pieces \"home\" Monopoly Designer: Charles Darrow (based on The Landlord\\'s Game by Elizabeth Magie) First Published: 1935 Players: 2-8 Playing Time: 60-180 minutes Overview Monopoly is perhaps the world\\'s most famous board game, focusing on buying, selling, and developing properties. Players roll dice to move around the board, purchasing unowned properties and charging rent to opponents who land on their spaces. The last player remaining after all others have gone bankrupt is the winner. Key Features ● Economic simulation with property management ● Negotiation and', 'buying, selling, and developing properties. Players roll dice to move around the board, purchasing unowned properties and charging rent to opponents who land on their spaces. The last player remaining after all others have gone bankrupt is the winner. Key Features ● Economic simulation with property management ● Negotiation and trading mechanics ● Iconic tokens, currency, and board design ● Over 1,000 different versions and themes Game Mechanics ● Property acquisition and development ● Rent collection based on property value and development ● Chance and Community Chest cards introducing random events ● Trading and negotiation between players Chess Origin: Evolved', \"trading mechanics ● Iconic tokens, currency, and board design ● Over 1,000 different versions and themes Game Mechanics ● Property acquisition and development ● Rent collection based on property value and development ● Chance and Community Chest cards introducing random events ● Trading and negotiation between players Chess Origin: Evolved from 6th century Indian game chaturanga Modern Rules Standardized: 19th century Players: 2 Playing Time: 10-60+ minutes Overview Chess is one of the world's most respected strategy games, requiring foresight, planning, and tactical thinking. Players move their pieces according to specific movement rules, attempting to checkmate their opponent's king while\", \"from 6th century Indian game chaturanga Modern Rules Standardized: 19th century Players: 2 Playing Time: 10-60+ minutes Overview Chess is one of the world's most respected strategy games, requiring foresight, planning, and tactical thinking. Players move their pieces according to specific movement rules, attempting to checkmate their opponent's king while protecting their own. Key Features ● Perfect information game with no element of chance ● Incredibly deep strategy with countless opening variations ● Internationally standardized rules ● Recognized sport with professional competitions worldwide Game Mechanics ● Different pieces with unique movement patterns ● Capturing opponent's pieces by moving to their\", \"protecting their own. Key Features ● Perfect information game with no element of chance ● Incredibly deep strategy with countless opening variations ● Internationally standardized rules ● Recognized sport with professional competitions worldwide Game Mechanics ● Different pieces with unique movement patterns ● Capturing opponent's pieces by moving to their square ● Check, checkmate, and stalemate conditions ● Special moves like castling, en passant, and pawn promotion Checkers (Draughts) Origin: Ancient game with origins around 3000 BCE Modern Form: 12th century Players: 2 Playing Time: 15-30 minutes Overview Checkers (known as Draughts in many countries) is a classic abstract strategy\", \"square ● Check, checkmate, and stalemate conditions ● Special moves like castling, en passant, and pawn promotion Checkers (Draughts) Origin: Ancient game with origins around 3000 BCE Modern Form: 12th century Players: 2 Playing Time: 15-30 minutes Overview Checkers (known as Draughts in many countries) is a classic abstract strategy game played on an 8×8 board. Players move their pieces diagonally, attempting to capture the opponent's pieces by jumping over them. The game combines simplicity with tactical depth. Key Features ● Easy to learn but challenging to master ● Quick playtime makes it perfect for multiple rounds ● Minimal equipment\", \"game played on an 8×8 board. Players move their pieces diagonally, attempting to capture the opponent's pieces by jumping over them. The game combines simplicity with tactical depth. Key Features ● Easy to learn but challenging to master ● Quick playtime makes it perfect for multiple rounds ● Minimal equipment needed (can be played with coins, bottle caps, etc.) ● Multiple regional variations with different rules Game Mechanics ● Diagonal movement of pieces ● Capturing by jumping over opponent's pieces ● Kings that can move backward ● Forced capture rules in many variations Clue (Cluedo) Designer: Anthony E. Pratt First\", \"needed (can be played with coins, bottle caps, etc.) ● Multiple regional variations with different rules Game Mechanics ● Diagonal movement of pieces ● Capturing by jumping over opponent's pieces ● Kings that can move backward ● Forced capture rules in many variations Clue (Cluedo) Designer: Anthony E. Pratt First Published: 1949 Players: 3-6 Playing Time: 45-60 minutes Overview Clue (known as Cluedo outside North America) is a murder mystery game where players attempt to determine who killed Mr. Boddy, with what weapon, and in which room. Players move through a mansion, making suggestions and eliminating possibilities through deduction. Key\", 'Published: 1949 Players: 3-6 Playing Time: 45-60 minutes Overview Clue (known as Cluedo outside North America) is a murder mystery game where players attempt to determine who killed Mr. Boddy, with what weapon, and in which room. Players move through a mansion, making suggestions and eliminating possibilities through deduction. Key Features ● Deductive reasoning gameplay ● Character-based play with iconic suspects ● Combination of strategy and logical thinking ● Memorable setting and theme Game Mechanics ● Movement through the mansion rooms ● Making suggestions to eliminate possibilities ● Secret passages between corners ● Process of elimination using detective notes Comparison', \"Features ● Deductive reasoning gameplay ● Character-based play with iconic suspects ● Combination of strategy and logical thinking ● Memorable setting and theme Game Mechanics ● Movement through the mansion rooms ● Making suggestions to eliminate possibilities ● Secret passages between corners ● Process of elimination using detective notes Comparison Table Skills Developed Historical Significance Ludo Ludo's origins trace back to the ancient Indian game Pachisi, played as early as the 6th century. The modern version was patented in England in 1896. The game's simple design has made it a staple in households worldwide, with countless variations including Parcheesi in\", 'Table Skills Developed Historical Significance Ludo Ludo\\'s origins trace back to the ancient Indian game Pachisi, played as early as the 6th century. The modern version was patented in England in 1896. The game\\'s simple design has made it a staple in households worldwide, with countless variations including Parcheesi in the United States and Mensch ärgere Dich nicht in Germany. Monopoly Originally created as \"The Landlord\\'s Game\" by Elizabeth Magie in 1903 to demonstrate the negative aspects of monopolies, the game was later modified and patented by Charles Darrow in 1935. Parker Brothers (now Hasbro) purchased the rights and turned', 'the United States and Mensch ärgere Dich nicht in Germany. Monopoly Originally created as \"The Landlord\\'s Game\" by Elizabeth Magie in 1903 to demonstrate the negative aspects of monopolies, the game was later modified and patented by Charles Darrow in 1935. Parker Brothers (now Hasbro) purchased the rights and turned it into the world\\'s best-selling commercial board game. Over 275 million games have been sold worldwide. Chess Chess evolved from the Indian game chaturanga around the 6th century, spreading to Persia and then Europe. The modern rules were standardized in the 19th century. Chess is recognized as a sport by', \"it into the world's best-selling commercial board game. Over 275 million games have been sold worldwide. Chess Chess evolved from the Indian game chaturanga around the 6th century, spreading to Persia and then Europe. The modern rules were standardized in the 19th century. Chess is recognized as a sport by the International Olympic Committee and has been the subject of significant computer science research, culminating in computers like Deep Blue defeating world champions. Checkers One of the oldest known board games, archaeological evidence suggests similar games were played as far back as 3000 BCE in ancient Mesopotamia. The modern version\", 'the International Olympic Committee and has been the subject of significant computer science research, culminating in computers like Deep Blue defeating world champions. Checkers One of the oldest known board games, archaeological evidence suggests similar games were played as far back as 3000 BCE in ancient Mesopotamia. The modern version emerged in France around the 12th century. In 2007, checkers was \"solved\" by computer scientists, proving that perfect play by both sides leads to a draw. Clue Created by Anthony E. Pratt in Birmingham, England during World War II and patented in 1947, Clue was inspired by murder mystery dinner', 'emerged in France around the 12th century. In 2007, checkers was \"solved\" by computer scientists, proving that perfect play by both sides leads to a draw. Clue Created by Anthony E. Pratt in Birmingham, England during World War II and patented in 1947, Clue was inspired by murder mystery dinner parties. The game was first manufactured by Waddingtons in the UK and Parker Brothers in the US. It has inspired numerous spin-offs, including a 1985 film, a musical, and multiple themed editions. Conclusion These five classic board games have remained popular for decades (or even centuries) because they each offer', 'parties. The game was first manufactured by Waddingtons in the UK and Parker Brothers in the US. It has inspired numerous spin-offs, including a 1985 film, a musical, and multiple themed editions. Conclusion These five classic board games have remained popular for decades (or even centuries) because they each offer engaging gameplay that appeals to different preferences and skill levels. From the pure strategy of Chess to the family-friendly competition of Ludo, these games have earned their place as timeless classics in the world of tabletop gaming. While modern board games continue to innovate with new mechanics and themes, these', \"engaging gameplay that appeals to different preferences and skill levels. From the pure strategy of Chess to the family-friendly competition of Ludo, these games have earned their place as timeless classics in the world of tabletop gaming. While modern board games continue to innovate with new mechanics and themes, these classics provide a foundation that continues to influence game design today. Whether you're introducing young players to their first board game or enjoying a strategic challenge with experienced players, these five games offer something for everyone. Table Summaries: Here is a summary of the game characteristics: Ludo is a game\", \"classics provide a foundation that continues to influence game design today. Whether you're introducing young players to their first board game or enjoying a strategic challenge with experienced players, these five games offer something for everyone. Table Summaries: Here is a summary of the game characteristics: Ludo is a game for ages 4 and up, with low complexity, high luck factor, and low strategy, with an average playing time of 30-60 minutes. Monopoly is for ages 8 and up, with medium complexity, medium luck factor, and medium strategy, and an average playing time of 60-180 minutes. Chess is for ages\", 'for ages 4 and up, with low complexity, high luck factor, and low strategy, with an average playing time of 30-60 minutes. Monopoly is for ages 8 and up, with medium complexity, medium luck factor, and medium strategy, and an average playing time of 60-180 minutes. Chess is for ages 6 and up, with high complexity, no luck factor, and very high strategy, and an average playing time of 10-60+ minutes. Checkers is for ages 6 and up, with low complexity, no luck factor, and medium strategy, and an average playing time of 15-30 minutes. Clue is for ages 8', \"6 and up, with high complexity, no luck factor, and very high strategy, and an average playing time of 10-60+ minutes. Checkers is for ages 6 and up, with low complexity, no luck factor, and medium strategy, and an average playing time of 15-30 minutes. Clue is for ages 8 and up, with medium complexity, medium luck factor, and medium strategy, and an average playing time of 45-60 minutes. Here's a summary of the game skills based on the table: Ludo: Low in logical thinking and math skills, high in social skills, low in planning, and moderate in patience. Monopoly:\", \"and up, with medium complexity, medium luck factor, and medium strategy, and an average playing time of 45-60 minutes. Here's a summary of the game skills based on the table: Ludo: Low in logical thinking and math skills, high in social skills, low in planning, and moderate in patience. Monopoly: Moderate in logical thinking, high in math and social skills, moderate in planning, and high in patience. Chess: High in logical thinking, low in math and social skills, and high in planning and patience. Checkers: Moderate in logical thinking, low in math and social skills, moderate in planning and patience.\", 'Moderate in logical thinking, high in math and social skills, moderate in planning, and high in patience. Chess: High in logical thinking, low in math and social skills, and high in planning and patience. Checkers: Moderate in logical thinking, low in math and social skills, moderate in planning and patience. Clue: High in logical thinking, low in math skills, moderate in social skills, planning, and patience.', 'Clue: High in logical thinking, low in math skills, moderate in social skills, planning, and patience.']\n"
     ]
    }
   ],
   "source": [
    "try:\n",
    "    chunks = chunk_text(text)\n",
    "    print(chunks)\n",
    "except Exception as e:\n",
    "    print(f\"An error occurred: {e}\")"
   ]
  },
  {
   "cell_type": "code",
   "execution_count": 118,
   "id": "43278820-a3af-4c6e-9f0a-a4e42653e136",
   "metadata": {},
   "outputs": [],
   "source": [
    "def generate_embeddings(text_chunks):\n",
    "    embeddings = []\n",
    "    \n",
    "    for chunk in text_chunks:\n",
    "        response = genai.embed_content(\n",
    "            model=\"models/text-embedding-004\",\n",
    "            content=chunk,\n",
    "            task_type=\"RETRIEVAL_QUERY\" \n",
    "        )\n",
    "        embeddings.append(response['embedding'])\n",
    "    return embeddings"
   ]
  },
  {
   "cell_type": "code",
   "execution_count": 120,
   "id": "03ef0eaf-5dfc-4ddc-89b3-ba03021e61f5",
   "metadata": {},
   "outputs": [],
   "source": [
    "try:\n",
    "    embeddings = generate_embeddings(chunks)\n",
    "except Exception as e:\n",
    "    print(f\"An error occurred: {e}\")"
   ]
  },
  {
   "cell_type": "code",
   "execution_count": 122,
   "id": "fde80471-d32b-4c4b-bd6b-4768c6d0a018",
   "metadata": {},
   "outputs": [],
   "source": [
    "def store_embeddings_in_chromadb(text_chunks, embeddings):\n",
    "    for i, (chunk, embedding) in enumerate(zip(text_chunks, embeddings)):\n",
    "        collection.add(\n",
    "            ids=[str(i)],\n",
    "            embeddings=[embedding],\n",
    "            metadatas=[{\"content\": chunk}]\n",
    "        )"
   ]
  },
  {
   "cell_type": "code",
   "execution_count": 126,
   "id": "9075ca28-8d1d-4387-a448-eab743a86bf5",
   "metadata": {},
   "outputs": [
    {
     "name": "stderr",
     "output_type": "stream",
     "text": [
      "Insert of existing embedding ID: 0\n",
      "Add of existing embedding ID: 0\n",
      "Insert of existing embedding ID: 1\n",
      "Add of existing embedding ID: 1\n",
      "Insert of existing embedding ID: 2\n",
      "Add of existing embedding ID: 2\n",
      "Insert of existing embedding ID: 3\n",
      "Add of existing embedding ID: 3\n",
      "Insert of existing embedding ID: 4\n",
      "Add of existing embedding ID: 4\n",
      "Insert of existing embedding ID: 5\n",
      "Add of existing embedding ID: 5\n",
      "Insert of existing embedding ID: 6\n",
      "Add of existing embedding ID: 6\n",
      "Insert of existing embedding ID: 7\n",
      "Add of existing embedding ID: 7\n",
      "Insert of existing embedding ID: 8\n",
      "Add of existing embedding ID: 8\n",
      "Insert of existing embedding ID: 9\n",
      "Add of existing embedding ID: 9\n",
      "Insert of existing embedding ID: 10\n",
      "Add of existing embedding ID: 10\n",
      "Insert of existing embedding ID: 11\n",
      "Add of existing embedding ID: 11\n",
      "Insert of existing embedding ID: 12\n",
      "Add of existing embedding ID: 12\n",
      "Insert of existing embedding ID: 13\n",
      "Add of existing embedding ID: 13\n",
      "Insert of existing embedding ID: 14\n",
      "Add of existing embedding ID: 14\n",
      "Insert of existing embedding ID: 15\n",
      "Add of existing embedding ID: 15\n",
      "Insert of existing embedding ID: 16\n",
      "Add of existing embedding ID: 16\n",
      "Insert of existing embedding ID: 17\n",
      "Add of existing embedding ID: 17\n",
      "Insert of existing embedding ID: 18\n",
      "Add of existing embedding ID: 18\n",
      "Insert of existing embedding ID: 19\n",
      "Add of existing embedding ID: 19\n",
      "Insert of existing embedding ID: 20\n",
      "Add of existing embedding ID: 20\n",
      "Insert of existing embedding ID: 21\n",
      "Add of existing embedding ID: 21\n",
      "Insert of existing embedding ID: 22\n",
      "Add of existing embedding ID: 22\n",
      "Insert of existing embedding ID: 23\n",
      "Add of existing embedding ID: 23\n",
      "Insert of existing embedding ID: 24\n",
      "Add of existing embedding ID: 24\n",
      "Insert of existing embedding ID: 25\n",
      "Add of existing embedding ID: 25\n"
     ]
    }
   ],
   "source": [
    "try:\n",
    "    store_embeddings_in_chromadb(chunks, embeddings)\n",
    "except Exception as e:\n",
    "    print(f\"An error occurred: {e}\")"
   ]
  },
  {
   "cell_type": "code",
   "execution_count": null,
   "id": "bb6e3df5-8035-49e7-bd92-1b74fdd3ef9a",
   "metadata": {},
   "outputs": [],
   "source": []
  }
 ],
 "metadata": {
  "kernelspec": {
   "display_name": "Python [conda env:ai-chatbot]",
   "language": "python",
   "name": "conda-env-ai-chatbot-py"
  },
  "language_info": {
   "codemirror_mode": {
    "name": "ipython",
    "version": 3
   },
   "file_extension": ".py",
   "mimetype": "text/x-python",
   "name": "python",
   "nbconvert_exporter": "python",
   "pygments_lexer": "ipython3",
   "version": "3.10.16"
  }
 },
 "nbformat": 4,
 "nbformat_minor": 5
}
